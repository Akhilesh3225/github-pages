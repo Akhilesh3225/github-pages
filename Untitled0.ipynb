{
  "nbformat": 4,
  "nbformat_minor": 0,
  "metadata": {
    "colab": {
      "provenance": [],
      "authorship_tag": "ABX9TyPZOniIsML+cIz+k1egsDn4",
      "include_colab_link": true
    },
    "kernelspec": {
      "name": "python3",
      "display_name": "Python 3"
    },
    "language_info": {
      "name": "python"
    }
  },
  "cells": [
    {
      "cell_type": "markdown",
      "metadata": {
        "id": "view-in-github",
        "colab_type": "text"
      },
      "source": [
        "<a href=\"https://colab.research.google.com/github/Akhilesh3225/github-pages/blob/main/Untitled0.ipynb\" target=\"_parent\"><img src=\"https://colab.research.google.com/assets/colab-badge.svg\" alt=\"Open In Colab\"/></a>"
      ]
    },
    {
      "cell_type": "code",
      "execution_count": null,
      "metadata": {
        "colab": {
          "base_uri": "https://localhost:8080/"
        },
        "id": "hF5i48-uPbd3",
        "outputId": "75b3fddf-1e10-48e2-afa3-5f4bef5e7999"
      },
      "outputs": [
        {
          "output_type": "stream",
          "name": "stdout",
          "text": [
            "ABAB\n"
          ]
        }
      ],
      "source": [
        "str1 = \"ABABAB\"\n",
        "str2 = \"ABAB\"\n",
        "\n",
        "\n",
        "def longest_common_prefix(s1, s2):\n",
        "    min_length = min(len(s1), len(s2))\n",
        "    for i in range(min_length):\n",
        "        if s1[i] != s2[i]:\n",
        "            return s1[:i]\n",
        "    return s1[:min_length]\n",
        "\n",
        "output = longest_common_prefix(str1, str2)\n",
        "print(output)"
      ]
    },
    {
      "cell_type": "code",
      "source": [
        "str1 = \"LEFT\"\n",
        "str2 = \"CODE\"\n",
        "\n",
        "\n",
        "output = \"\"\n",
        "print(output)"
      ],
      "metadata": {
        "colab": {
          "base_uri": "https://localhost:8080/"
        },
        "id": "v5KgN9cGPztZ",
        "outputId": "df847f8f-6cd6-40ae-e55d-d88a18168e31"
      },
      "execution_count": null,
      "outputs": [
        {
          "output_type": "stream",
          "name": "stdout",
          "text": [
            "\n"
          ]
        }
      ]
    },
    {
      "cell_type": "code",
      "source": [
        "word1 = \"abc\"\n",
        "word2 = \"pqrs\"\n",
        "\n",
        "\n",
        "output = \"\"\n",
        "\n",
        "\n",
        "len1 = len(word1)\n",
        "len2 = len(word2)\n",
        "\n",
        "\n",
        "for i in range(max(len1, len2)):\n",
        "    if i < len1:\n",
        "        output += word1[i]\n",
        "    if i < len2:\n",
        "        output += word2[i]\n",
        "\n",
        "print(output)"
      ],
      "metadata": {
        "colab": {
          "base_uri": "https://localhost:8080/"
        },
        "id": "6ThZmioLQL8S",
        "outputId": "9b08a5c5-15bb-4d60-e11b-8f15df8494c4"
      },
      "execution_count": null,
      "outputs": [
        {
          "output_type": "stream",
          "name": "stdout",
          "text": [
            "apbqcrs\n"
          ]
        }
      ]
    },
    {
      "cell_type": "code",
      "source": [
        "word1 = \"ab\"\n",
        "word2 = \"pqrs\"\n",
        "\n",
        "\n",
        "output = \"\"\n",
        "\n",
        "len1 = len(word1)\n",
        "len2 = len(word2)\n",
        "\n",
        "\n",
        "for i in range(max(len1, len2)):\n",
        "    if i < len1:\n",
        "        output += word1[i]\n",
        "    if i < len2:\n",
        "        output += word2[i]\n",
        "\n",
        "print(output)"
      ],
      "metadata": {
        "colab": {
          "base_uri": "https://localhost:8080/"
        },
        "id": "sjgTbaMkQYtY",
        "outputId": "01c99291-2570-48a4-a73f-6694a8b84a35"
      },
      "execution_count": null,
      "outputs": [
        {
          "output_type": "stream",
          "name": "stdout",
          "text": [
            "apbqrs\n"
          ]
        }
      ]
    },
    {
      "cell_type": "code",
      "source": [
        "word1 = \"abcd\"\n",
        "word2 = \"pq\"\n",
        "\n",
        "\n",
        "output = \"\"\n",
        "\n",
        "\n",
        "len1 = len(word1)\n",
        "len2 = len(word2)\n",
        "\n",
        "\n",
        "for i in range(max(len1, len2)):\n",
        "    if i < len1:\n",
        "        output += word1[i]\n",
        "    if i < len2:\n",
        "        output += word2[i]\n",
        "\n",
        "print(output)"
      ],
      "metadata": {
        "colab": {
          "base_uri": "https://localhost:8080/"
        },
        "id": "Hmp4alAVQ4fV",
        "outputId": "e36df19e-a3df-4022-eff7-5de46c2f5e44"
      },
      "execution_count": null,
      "outputs": [
        {
          "output_type": "stream",
          "name": "stdout",
          "text": [
            "apbqcd\n"
          ]
        }
      ]
    },
    {
      "cell_type": "code",
      "source": [
        "def common_chars(str1, str2):\n",
        "    common = set(str1) & set(str2)\n",
        "    return \"\"\n",
        "\n",
        "\n",
        "str1 = \"LEET\"\n",
        "str2 = \"CODE\"\n",
        "print(common_chars(str1, str2))\n"
      ],
      "metadata": {
        "id": "Cd6G5EQiTEdI",
        "colab": {
          "base_uri": "https://localhost:8080/"
        },
        "outputId": "6d44f28c-dedc-4129-c04f-c4c76d1dcf8f"
      },
      "execution_count": 4,
      "outputs": [
        {
          "output_type": "stream",
          "name": "stdout",
          "text": [
            "\n"
          ]
        }
      ]
    }
  ]
}